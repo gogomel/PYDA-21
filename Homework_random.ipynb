{
 "cells": [
  {
   "cell_type": "code",
   "execution_count": 4,
   "metadata": {},
   "outputs": [],
   "source": [
    "import numpy as np"
   ]
  },
  {
   "cell_type": "code",
   "execution_count": 32,
   "metadata": {},
   "outputs": [
    {
     "name": "stdout",
     "output_type": "stream",
     "text": [
      "Игра невыгодна, средний проигрыш - 0.19885390000000003 рублей\n"
     ]
    }
   ],
   "source": [
    "trials = 10000000    # количество попыток\n",
    "total_win = 0    # суммарный выигрыш\n",
    "\n",
    "for i in range(trials):\n",
    "    random_score = np.random.randint(1, 1000)    # Случайное число на автомате от 1 до 999\n",
    "    if random_score == 777:\n",
    "        total_win += 200\n",
    "    elif random_score == 999:\n",
    "        total_win += 100\n",
    "    elif random_score == 555:\n",
    "        total_win += 50\n",
    "    elif random_score == 333:\n",
    "        total_win += 15\n",
    "    elif random_score == 111:\n",
    "        total_win += 10\n",
    "    elif random_score == 999:\n",
    "        total_win += 100\n",
    "    elif random_score % 100 == 77:\n",
    "        total_win += 5\n",
    "    elif random_score % 10 == 7:\n",
    "        total_win += 3\n",
    "    elif random_score % 100 == 0:\n",
    "        total_win += 2\n",
    "    elif random_score % 10 == 0:\n",
    "        total_win += 1\n",
    "if trials * 1 > total_win:    # если выигрыш меньше, чем затраченные деньги на попытки (по 1 рублю), значит игра невыгодна\n",
    "    print(f'Игра невыгодна, средний проигрыш - {1 - (total_win / trials)} рублей')\n",
    "elif trials * 1 < total_win:  # если выигрыш больше, чем затраченные деньги на попытки (по 1 рублю), значит игра невыгодна\n",
    "    print(f'Игра выгодна, средний выигрыш - {total_win / trials} рублей')\n",
    "else:\n",
    "    print('Игрок в нуле')"
   ]
  },
  {
   "cell_type": "code",
   "execution_count": null,
   "metadata": {},
   "outputs": [],
   "source": []
  }
 ],
 "metadata": {
  "kernelspec": {
   "display_name": "Python 3",
   "language": "python",
   "name": "python3"
  },
  "language_info": {
   "codemirror_mode": {
    "name": "ipython",
    "version": 3
   },
   "file_extension": ".py",
   "mimetype": "text/x-python",
   "name": "python",
   "nbconvert_exporter": "python",
   "pygments_lexer": "ipython3",
   "version": "3.8.3"
  }
 },
 "nbformat": 4,
 "nbformat_minor": 4
}
