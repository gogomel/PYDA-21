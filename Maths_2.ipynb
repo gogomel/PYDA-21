{
 "cells": [
  {
   "cell_type": "code",
   "execution_count": 19,
   "metadata": {},
   "outputs": [],
   "source": [
    "import numpy as np"
   ]
  },
  {
   "cell_type": "markdown",
   "metadata": {},
   "source": [
    "# Задание 1"
   ]
  },
  {
   "cell_type": "markdown",
   "metadata": {},
   "source": [
    "Создайте случайную матрицу А1 размерностью 5 на 5. Вычислить транспонированную матрицу и найти обратную матрицу. Найдите определитель и ранг каждой полученной матрицы."
   ]
  },
  {
   "cell_type": "code",
   "execution_count": 20,
   "metadata": {},
   "outputs": [
    {
     "data": {
      "text/plain": [
       "array([[7, 5, 0, 5, 6],\n",
       "       [4, 6, 7, 6, 0],\n",
       "       [2, 0, 0, 4, 8],\n",
       "       [9, 3, 2, 9, 4],\n",
       "       [8, 3, 3, 6, 8]])"
      ]
     },
     "execution_count": 20,
     "metadata": {},
     "output_type": "execute_result"
    }
   ],
   "source": [
    "#Случаня матрица А1 размерностью 5 на 5\n",
    "A1 = np.random.randint(10, size = (5,5)) \n",
    "A1"
   ]
  },
  {
   "cell_type": "code",
   "execution_count": 21,
   "metadata": {},
   "outputs": [
    {
     "data": {
      "text/plain": [
       "array([[7, 4, 2, 9, 8],\n",
       "       [5, 6, 0, 3, 3],\n",
       "       [0, 7, 0, 2, 3],\n",
       "       [5, 6, 4, 9, 6],\n",
       "       [6, 0, 8, 4, 8]])"
      ]
     },
     "execution_count": 21,
     "metadata": {},
     "output_type": "execute_result"
    }
   ],
   "source": [
    "#Транспонированная матрица А1\n",
    "A1T = np.transpose(A1)\n",
    "A1T"
   ]
  },
  {
   "cell_type": "code",
   "execution_count": 22,
   "metadata": {},
   "outputs": [
    {
     "data": {
      "text/plain": [
       "array([[-0.02697495, -0.1014772 , -0.21098266,  0.03339756,  0.21451509],\n",
       "       [ 0.238921  ,  0.08927425,  0.01156069, -0.10533076, -0.13808606],\n",
       "       [-0.16955684,  0.07642903, -0.04046243, -0.07578677,  0.20552344],\n",
       "       [-0.02312139,  0.05587669,  0.17630058,  0.17148362, -0.24470135],\n",
       "       [ 0.01830443, -0.00256904,  0.08959538, -0.0940912 ,  0.0687219 ]])"
      ]
     },
     "execution_count": 22,
     "metadata": {},
     "output_type": "execute_result"
    }
   ],
   "source": [
    "#Матрица, обратная транспонированной А1\n",
    "A_inv = np.linalg.inv(A1)\n",
    "A_inv"
   ]
  },
  {
   "cell_type": "code",
   "execution_count": 23,
   "metadata": {},
   "outputs": [
    {
     "data": {
      "text/plain": [
       "-6228.000000000002"
      ]
     },
     "execution_count": 23,
     "metadata": {},
     "output_type": "execute_result"
    }
   ],
   "source": [
    "#Определитель матрицы А1\n",
    "np.linalg.det(A1)"
   ]
  },
  {
   "cell_type": "code",
   "execution_count": 24,
   "metadata": {},
   "outputs": [
    {
     "data": {
      "text/plain": [
       "-6228.000000000002"
      ]
     },
     "execution_count": 24,
     "metadata": {},
     "output_type": "execute_result"
    }
   ],
   "source": [
    "#Определитель транспонированной матрицы \n",
    "np.linalg.det(A1T)"
   ]
  },
  {
   "cell_type": "code",
   "execution_count": 25,
   "metadata": {},
   "outputs": [
    {
     "data": {
      "text/plain": [
       "-0.00016056518946692353"
      ]
     },
     "execution_count": 25,
     "metadata": {},
     "output_type": "execute_result"
    }
   ],
   "source": [
    "#Определитель матрицы, обратной транспонированной А1\n",
    "\n",
    "np.linalg.det(A_inv)"
   ]
  },
  {
   "cell_type": "code",
   "execution_count": 26,
   "metadata": {},
   "outputs": [
    {
     "data": {
      "text/plain": [
       "5"
      ]
     },
     "execution_count": 26,
     "metadata": {},
     "output_type": "execute_result"
    }
   ],
   "source": [
    "#Ранг матрицы А1\n",
    "np.linalg.matrix_rank(A1)"
   ]
  },
  {
   "cell_type": "code",
   "execution_count": 27,
   "metadata": {},
   "outputs": [
    {
     "data": {
      "text/plain": [
       "5"
      ]
     },
     "execution_count": 27,
     "metadata": {},
     "output_type": "execute_result"
    }
   ],
   "source": [
    "#Ранг транспонированной матрицы\n",
    "np.linalg.matrix_rank(A1T)"
   ]
  },
  {
   "cell_type": "code",
   "execution_count": 28,
   "metadata": {},
   "outputs": [
    {
     "data": {
      "text/plain": [
       "5"
      ]
     },
     "execution_count": 28,
     "metadata": {},
     "output_type": "execute_result"
    }
   ],
   "source": [
    "#Ранг матрицы, обратной транспонированной А1\n",
    "np.linalg.matrix_rank(A_inv)"
   ]
  },
  {
   "cell_type": "markdown",
   "metadata": {},
   "source": [
    "# Задание 2"
   ]
  },
  {
   "cell_type": "markdown",
   "metadata": {},
   "source": [
    "Создайте диагональную матрицу, поэлементно перемножив единичную матрицу I и случайную матрицу A2 размерности 6 на 6. Найдите определитель и ранг полученной матрицы."
   ]
  },
  {
   "cell_type": "code",
   "execution_count": 34,
   "metadata": {},
   "outputs": [
    {
     "data": {
      "text/plain": [
       "array([[1., 0., 0., 0., 0., 0.],\n",
       "       [0., 1., 0., 0., 0., 0.],\n",
       "       [0., 0., 1., 0., 0., 0.],\n",
       "       [0., 0., 0., 1., 0., 0.],\n",
       "       [0., 0., 0., 0., 1., 0.],\n",
       "       [0., 0., 0., 0., 0., 1.]])"
      ]
     },
     "execution_count": 34,
     "metadata": {},
     "output_type": "execute_result"
    }
   ],
   "source": [
    "#Единичная матрица\n",
    "I = np.eye(6)\n",
    "I"
   ]
  },
  {
   "cell_type": "code",
   "execution_count": 35,
   "metadata": {},
   "outputs": [
    {
     "data": {
      "text/plain": [
       "array([[3, 0, 6, 8, 4, 4],\n",
       "       [3, 9, 8, 3, 8, 4],\n",
       "       [7, 8, 7, 8, 8, 2],\n",
       "       [5, 0, 5, 6, 9, 9],\n",
       "       [5, 1, 9, 8, 8, 0],\n",
       "       [3, 5, 7, 0, 9, 1]])"
      ]
     },
     "execution_count": 35,
     "metadata": {},
     "output_type": "execute_result"
    }
   ],
   "source": [
    "#Случайная матрица 6 на 6\n",
    "B1 = np.random.randint(10, size = (6,6))\n",
    "B1"
   ]
  },
  {
   "cell_type": "code",
   "execution_count": 36,
   "metadata": {},
   "outputs": [
    {
     "data": {
      "text/plain": [
       "array([[3., 0., 0., 0., 0., 0.],\n",
       "       [0., 9., 0., 0., 0., 0.],\n",
       "       [0., 0., 7., 0., 0., 0.],\n",
       "       [0., 0., 0., 6., 0., 0.],\n",
       "       [0., 0., 0., 0., 8., 0.],\n",
       "       [0., 0., 0., 0., 0., 1.]])"
      ]
     },
     "execution_count": 36,
     "metadata": {},
     "output_type": "execute_result"
    }
   ],
   "source": [
    "#Диагональная матрица\n",
    "D = I * B1\n",
    "D"
   ]
  },
  {
   "cell_type": "code",
   "execution_count": 37,
   "metadata": {},
   "outputs": [
    {
     "data": {
      "text/plain": [
       "9072.0"
      ]
     },
     "execution_count": 37,
     "metadata": {},
     "output_type": "execute_result"
    }
   ],
   "source": [
    "#Определитель диагонльной матрицы\n",
    "np.linalg.det(D)"
   ]
  },
  {
   "cell_type": "code",
   "execution_count": 38,
   "metadata": {},
   "outputs": [
    {
     "data": {
      "text/plain": [
       "6"
      ]
     },
     "execution_count": 38,
     "metadata": {},
     "output_type": "execute_result"
    }
   ],
   "source": [
    "#Ранг диагональной матрицы\n",
    "np.linalg.matrix_rank(D)"
   ]
  },
  {
   "cell_type": "markdown",
   "metadata": {},
   "source": [
    "# Задание 3"
   ]
  },
  {
   "cell_type": "markdown",
   "metadata": {},
   "source": [
    "Далее давайте представим изображения в виде матриц и также определим их свойства. Для первых 10 цифр (от 0 до 9) из тестовой базы рукописных цифр (MNIST) определить какая из этих цифр имеет максимальный ранг?"
   ]
  },
  {
   "cell_type": "code",
   "execution_count": 40,
   "metadata": {},
   "outputs": [],
   "source": [
    "import numpy as np\n",
    "from sklearn.datasets import load_digits\n",
    "import matplotlib.pyplot as plt\n",
    "digits = load_digits()"
   ]
  },
  {
   "cell_type": "code",
   "execution_count": 83,
   "metadata": {},
   "outputs": [
    {
     "data": {
      "text/plain": [
       "<Figure size 432x288 with 0 Axes>"
      ]
     },
     "metadata": {},
     "output_type": "display_data"
    },
    {
     "data": {
      "image/png": "[encoded data removed]",
      "text/plain": [
       "<Figure size 288x288 with 1 Axes>"
      ]
     },
     "metadata": {
      "needs_background": "light"
     },
     "output_type": "display_data"
    }
   ],
   "source": [
    "plt.gray();\n",
    "plt.matshow(digits.images[0]);\n",
    "plt.show()"
   ]
  },
  {
   "cell_type": "code",
   "execution_count": 85,
   "metadata": {},
   "outputs": [
    {
     "name": "stdout",
     "output_type": "stream",
     "text": [
      "Цифра - 0, ранг - 7\n"
     ]
    }
   ],
   "source": [
    "i = 0\n",
    "list_ = []\n",
    "for el in digits.images:\n",
    "    list_.append(np.linalg.matrix_rank(digits.images[i]))\n",
    "    rank = max(list_)\n",
    "    i += 1\n",
    "    if i == 11:\n",
    "        break\n",
    "print(f'Цифра - {list_.index(rank)}, ранг - {rank}')\n"
   ]
  },
  {
   "cell_type": "code",
   "execution_count": 109,
   "metadata": {},
   "outputs": [
    {
     "name": "stdout",
     "output_type": "stream",
     "text": [
      "Цифра - 0, ранг - 7\n"
     ]
    }
   ],
   "source": [
    "i = 0\n",
    "list_ = []\n",
    "for el in digits.images:\n",
    "    list_.append(np.linalg.matrix_rank(digits.images[i]))\n",
    "    rank = max(list_)\n",
    "    i += 1\n",
    "    if i == 10:\n",
    "        break\n",
    "print(f'Цифра - {list_.index(rank)}, ранг - {rank}')"
   ]
  },
  {
   "cell_type": "code",
   "execution_count": 108,
   "metadata": {},
   "outputs": [
    {
     "name": "stdout",
     "output_type": "stream",
     "text": [
      "Цифра - 0, ранг - 7\n"
     ]
    }
   ],
   "source": [
    "list_ = []\n",
    "for i in range(10):\n",
    "    list_.append(np.linalg.matrix_rank(digits.images[i]))\n",
    "rank = max(list_)\n",
    "print(f'Цифра - {list_.index(rank)}, ранг - {rank}')"
   ]
  },
  {
   "cell_type": "markdown",
   "metadata": {},
   "source": [
    "# Задание 4"
   ]
  },
  {
   "cell_type": "markdown",
   "metadata": {},
   "source": [
    "Для первых 10 цифр (от 0 до 9) из тестовой базы рукописных цифр (MNIST) найдите все собственные числа. Для каких цифр все собственные значения не являются комплексными?\n",
    "\n"
   ]
  },
  {
   "cell_type": "code",
   "execution_count": 236,
   "metadata": {
    "scrolled": false
   },
   "outputs": [
    {
     "name": "stdout",
     "output_type": "stream",
     "text": [
      "0\n",
      "2\n",
      "6\n"
     ]
    }
   ],
   "source": [
    "list_ = [] #список для массивов собственных чисел под каждую цифру\n",
    "k = 0 #счетчик для цифры самой начальной\n",
    "for i in range(10): \n",
    "    e_vals, e_vecs = np.linalg.eig(digits.images[i])\n",
    "    list_.append(e_vals) #здесь у нас 10 наборов собственных чисел для первых 9 цифр\n",
    "for el in list_: #здесь мы проходимся по самим цифрам (по массивам собственных чисел каждой цифры)\n",
    "    check = 1 # это наша переменная для проверки, сначала мы думаем, что все собств. числа не комплексные\n",
    "    for own_number in el: # здесь мы проходимся по самим собственным числам\n",
    "        if type(own_number) == np.complex128: # здесь мы проверяем, есть ли среди собственных чисел комлпексные\n",
    "            check = 0 # если какое-то собств. число комлпексное, то меняем значение проверки на false\n",
    "    if check == 1:\n",
    "        print (k) #смотрим в какой в итоге цифре мы находимся\n",
    "    k += 1 # идем к следующей цифре\n",
    "            "
   ]
  },
  {
   "cell_type": "code",
   "execution_count": null,
   "metadata": {},
   "outputs": [],
   "source": []
  },
  {
   "cell_type": "code",
   "execution_count": null,
   "metadata": {},
   "outputs": [],
   "source": []
  },
  {
   "cell_type": "code",
   "execution_count": null,
   "metadata": {},
   "outputs": [],
   "source": []
  },
  {
   "cell_type": "code",
   "execution_count": null,
   "metadata": {},
   "outputs": [],
   "source": []
  }
 ],
 "metadata": {
  "kernelspec": {
   "display_name": "Python 3",
   "language": "python",
   "name": "python3"
  },
  "language_info": {
   "codemirror_mode": {
    "name": "ipython",
    "version": 3
   },
   "file_extension": ".py",
   "mimetype": "text/x-python",
   "name": "python",
   "nbconvert_exporter": "python",
   "pygments_lexer": "ipython3",
   "version": "3.8.3"
  }
 },
 "nbformat": 4,
 "nbformat_minor": 4
}
