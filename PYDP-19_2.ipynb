{
 "cells": [
  {
   "cell_type": "code",
   "execution_count": 34,
   "metadata": {},
   "outputs": [
    {
     "name": "stdout",
     "output_type": "stream",
     "text": [
      "es\n"
     ]
    }
   ],
   "source": [
    "\"\"\"Дана переменная, в которой хранится слово из латинских букв. Напишите код, который выводит на экран:\n",
    "\n",
    "среднюю букву, если число букв в слове нечетное;\n",
    "две средних буквы, если число букв четное.\"\"\"\n",
    "\n",
    "word = 'test'\n",
    "if len(word) % 2 == 0:\n",
    "    print(word[(int(len(word) / 2 - 1)): (int(len(word) / 2 + 1))])\n",
    "else:\n",
    "    print(word[(int((len(word) - 1) / 2))])"
   ]
  },
  {
   "cell_type": "code",
   "execution_count": 45,
   "metadata": {},
   "outputs": [
    {
     "name": "stdout",
     "output_type": "stream",
     "text": [
      "Введите число 0\n",
      "Результат 0\n"
     ]
    }
   ],
   "source": [
    "\"\"\"Напишите программу, которая последовательно запрашивает у пользователя числа \n",
    "(по одному за раз) и после первого нуля выводит сумму всех ранее введенных чисел.\"\"\"\n",
    "\n",
    "user_input = 1\n",
    "sum_ = 0\n",
    "while user_input != 0:\n",
    "    user_input = int(input(\"Введите число \"))\n",
    "    sum_ += user_input\n",
    "print(f\"Результат {sum_}\")\n",
    "    "
   ]
  },
  {
   "cell_type": "code",
   "execution_count": 80,
   "metadata": {},
   "outputs": [
    {
     "name": "stdout",
     "output_type": "stream",
     "text": [
      "Идеальные пары:\n",
      "Alex и Emma\n",
      "Arthur и Kate\n",
      "John и Kira\n",
      "Peter и Liza\n",
      "Richard и Trisha\n"
     ]
    }
   ],
   "source": [
    "\"\"\"Мы делаем MVP dating-сервиса, и у нас есть список парней и девушек.\n",
    "Выдвигаем гипотезу: лучшие рекомендации мы получим, если просто отсортируем \n",
    "имена по алфавиту и познакомим людей с одинаковыми индексами после сортировки! \n",
    "Но мы не будем никого знакомить, если кто-то может остаться без пары:\"\"\"\n",
    "\n",
    "boys = ['Peter', 'Alex', 'John', 'Arthur', 'Richard']\n",
    "girls = ['Kate', 'Liza', 'Kira', 'Emma', 'Trisha']\n",
    "if len(boys) == len(girls):\n",
    "    print(\"Идеальные пары:\")\n",
    "    for name in range(len(boys)):\n",
    "        print(sorted(boys)[name],'и', sorted(girls)[name])\n",
    "else:\n",
    "    print(\"Внимание, кто-то может остаться без пары!\")\n",
    "\n"
   ]
  },
  {
   "cell_type": "code",
   "execution_count": 90,
   "metadata": {},
   "outputs": [
    {
     "name": "stdout",
     "output_type": "stream",
     "text": [
      "Средняя температура в странах:\n",
      "Thailand 23.9 C\n",
      "Germany 13.8 C\n",
      "Russia 3.7 C\n",
      "Poland 12.0 C\n"
     ]
    }
   ],
   "source": [
    "\"\"\"У нас есть список, содержащий информацию о среднедневной температуре в Фаренгейтах \n",
    "за произвольный период по странам (структура данных в примере). Необходимо написать код, \n",
    "который рассчитает среднюю температуру за период в Цельсиях(!) для каждой страны.\"\"\"\n",
    "\n",
    "countries_temperature = [\n",
    "    ['Thailand', [75.2, 77, 78.8, 73.4, 68, 75.2, 77]],\n",
    "    ['Germany', [57.2, 55.4, 59, 59, 53.6]],\n",
    "    ['Russia', [35.6, 37.4, 39.2, 41, 42.8, 39.2, 35.6]],\n",
    "    ['Poland', [50, 50, 53.6, 57.2, 55.4, 55.4]]\n",
    "]\n",
    "print(\"Средняя температура в странах:\")\n",
    "for country in countries_temperature:\n",
    "    C_temp = 0\n",
    "    avg_temp = 0\n",
    "    sum_temp = 0\n",
    "    quantity = 0\n",
    "    for temp in country[1]:\n",
    "        C_temp = (float(temp) - 32) / 1.8\n",
    "        sum_temp += C_temp\n",
    "        quantity += 1\n",
    "    avg_temp = sum_temp / quantity\n",
    "    print(country[0], round(avg_temp, 1), 'C')\n"
   ]
  },
  {
   "cell_type": "code",
   "execution_count": null,
   "metadata": {},
   "outputs": [],
   "source": []
  },
  {
   "cell_type": "code",
   "execution_count": null,
   "metadata": {},
   "outputs": [],
   "source": []
  }
 ],
 "metadata": {
  "kernelspec": {
   "display_name": "Python 3",
   "language": "python",
   "name": "python3"
  },
  "language_info": {
   "codemirror_mode": {
    "name": "ipython",
    "version": 3
   },
   "file_extension": ".py",
   "mimetype": "text/x-python",
   "name": "python",
   "nbconvert_exporter": "python",
   "pygments_lexer": "ipython3",
   "version": "3.8.3"
  }
 },
 "nbformat": 4,
 "nbformat_minor": 4
}
