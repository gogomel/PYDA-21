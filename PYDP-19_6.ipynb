{
 "cells": [
  {
   "cell_type": "code",
   "execution_count": 46,
   "metadata": {},
   "outputs": [],
   "source": [
    "from datetime import datetime\n",
    "from datetime import timedelta"
   ]
  },
  {
   "cell_type": "code",
   "execution_count": 9,
   "metadata": {},
   "outputs": [],
   "source": [
    "\"\"\"Печатные газеты использовали свой формат дат для каждого выпуска. \n",
    "Для каждой газеты из списка напишите формат указанной даты для перевода в объект datetime:\n",
    "The Moscow Times - Wednesday, October 2, 2002\n",
    "The Guardian - Friday, 11.10.13\n",
    "Daily News - Thursday, 18 August 1977\"\"\"\n",
    "\n",
    "date_The_Moscow_Times = datetime.strptime('Wednesday, October 2, 2002', '%A, %B %d, %Y')\n",
    "date_The_Guardian = datetime.strptime('Friday, 11.10.13', '%A, %d.%m.%y')\n",
    "date_Daily_News = datetime.strptime('Thursday, 18 August 1977', '%A, %d %B %Y')"
   ]
  },
  {
   "cell_type": "code",
   "execution_count": 43,
   "metadata": {},
   "outputs": [],
   "source": [
    "\"\"\"Дан поток дат в формате YYYY-MM-DD, в которых встречаются некорректные значения:\n",
    "stream = [‘2018-04-02’, ‘2018-02-29’, ‘2018-19-02’]\n",
    "\n",
    "Напишите функцию, которая проверяет эти даты на корректность. Т. е. для каждой даты \n",
    "возвращает True (дата корректна) или False (некорректная дата).\"\"\"\n",
    "\n",
    "def checking(some_list):\n",
    "    for i in some_list:\n",
    "        try:\n",
    "            if datetime.strptime(i, '%Y-%m-%d'):\n",
    "                print(i, True)\n",
    "        except:\n",
    "            print(i, False)\n",
    "    \n"
   ]
  },
  {
   "cell_type": "code",
   "execution_count": 63,
   "metadata": {},
   "outputs": [],
   "source": [
    "\"\"\"Напишите функцию date_range, которая возвращает список дат за период \n",
    "от start_date до end_date. Даты должны вводиться в формате YYYY-MM-DD. \n",
    "В случае неверного формата или при start_date > end_date должен возвращаться пустой список.\"\"\"\n",
    "\n",
    "def date_range(start_date, end_date):\n",
    "    try:\n",
    "        correct_sd = datetime.strptime(start_date, '%Y-%m-%d')\n",
    "        correct_ed = datetime.strptime(end_date, '%Y-%m-%d')\n",
    "        if correct_sd < correct_ed:\n",
    "            while correct_sd <= correct_ed:\n",
    "                print(correct_sd.strftime('%Y-%m-%d'))\n",
    "                correct_sd += timedelta(days = 1)\n",
    "        else:\n",
    "            print([])\n",
    "    except:\n",
    "        print([])\n"
   ]
  },
  {
   "cell_type": "code",
   "execution_count": null,
   "metadata": {},
   "outputs": [],
   "source": []
  },
  {
   "cell_type": "code",
   "execution_count": null,
   "metadata": {},
   "outputs": [],
   "source": []
  }
 ],
 "metadata": {
  "kernelspec": {
   "display_name": "Python 3",
   "language": "python",
   "name": "python3"
  },
  "language_info": {
   "codemirror_mode": {
    "name": "ipython",
    "version": 3
   },
   "file_extension": ".py",
   "mimetype": "text/x-python",
   "name": "python",
   "nbconvert_exporter": "python",
   "pygments_lexer": "ipython3",
   "version": "3.8.3"
  }
 },
 "nbformat": 4,
 "nbformat_minor": 4
}
