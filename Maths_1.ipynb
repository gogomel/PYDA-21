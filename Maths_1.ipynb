{
 "cells": [
  {
   "cell_type": "code",
   "execution_count": 2,
   "metadata": {},
   "outputs": [],
   "source": [
    "import numpy as np"
   ]
  },
  {
   "cell_type": "code",
   "execution_count": 3,
   "metadata": {},
   "outputs": [
    {
     "name": "stdout",
     "output_type": "stream",
     "text": [
      "[0 0 1 0 1 0]\n",
      "[0 1 1 1 0 0]\n",
      "[0 0 1 1 1 0]\n",
      "[1 0 1 1 0 1]\n"
     ]
    }
   ],
   "source": [
    "\"\"\"Задание 1.\n",
    "Представить фильмы в виде бинарных векторов (numpy array) используюя следующие признаки:\n",
    "\n",
    "[Комедия, Боевик, Исторический, Бред Питт, Бенедикт Камбербэтч, Квентин Тарантино]\n",
    "\n",
    "Игра в имитацию [https://www.kinopoisk.ru/film/635772/]\n",
    "Ярость [https://www.kinopoisk.ru/film/740644/]\n",
    "12 лет рабства [https://www.kinopoisk.ru/film/606646/]\n",
    "Однажды в Голливуде [https://www.kinopoisk.ru/film/1047883/]\"\"\"\n",
    "\n",
    "\n",
    "a = np.array([0, 0, 1, 0, 1, 0])\n",
    "b = np.array([0, 1, 1, 1, 0, 0])\n",
    "c = np.array([0, 0, 1, 1, 1, 0])\n",
    "d = np.array([1, 0, 1, 1, 0, 1])\n",
    "\n",
    "print(a)\n",
    "print(b)\n",
    "print(c)\n",
    "print(d)"
   ]
  },
  {
   "cell_type": "code",
   "execution_count": 4,
   "metadata": {},
   "outputs": [
    {
     "name": "stdout",
     "output_type": "stream",
     "text": [
      "1.4142135623730951\n",
      "1.7320508075688772\n",
      "1.7320508075688772\n",
      "2.0\n"
     ]
    }
   ],
   "source": [
    "\"\"\"Задание 2.\n",
    "Вычислить Евклидову норму каждого из векторов, полученных в Задании 1.\n",
    "\"\"\"\n",
    "\n",
    "\n",
    "a_norm = np.linalg.norm(a)\n",
    "b_norm = np.linalg.norm(b)\n",
    "c_norm = np.linalg.norm(c)\n",
    "d_norm = np.linalg.norm(d)\n",
    "\n",
    "print(a_norm)\n",
    "print(b_norm)\n",
    "print(c_norm)\n",
    "print(d_norm)"
   ]
  },
  {
   "cell_type": "code",
   "execution_count": 5,
   "metadata": {},
   "outputs": [
    {
     "data": {
      "text/plain": [
       "0.8410686705679301"
      ]
     },
     "execution_count": 5,
     "metadata": {},
     "output_type": "execute_result"
    }
   ],
   "source": [
    "\"\"\"Задание 3.\n",
    "Найти угол между векторами-фильмами \"Ярость\" и \"12 лет рабства\". \n",
    "Результатом будет являться косинусная мера, которую можно использовать для определения похожести векторов.\"\"\"\n",
    "\n",
    "\n",
    "np.arccos(np.dot(b,c)/(np.linalg.norm(b)*np.linalg.norm(c)))"
   ]
  },
  {
   "cell_type": "code",
   "execution_count": 15,
   "metadata": {},
   "outputs": [
    {
     "data": {
      "text/plain": [
       "array([ 4,  2, 10,  9,  4,  4])"
      ]
     },
     "execution_count": 15,
     "metadata": {},
     "output_type": "execute_result"
    }
   ],
   "source": [
    "\"\"\"Задание 4.\n",
    "Объединить векторы, полученные в Задании 1 в матрицу, где каждый вектор является строкой матрицы. \n",
    "Полученную матрицу умножить на вектор [1,2,3,4]\n",
    "\"\"\"\n",
    "\n",
    "merged_v = np.array([a,b,c,d])\n",
    "new_v = np.array([1,2,3,4])\n",
    "new_v.transpose()@(merged_v)"
   ]
  },
  {
   "cell_type": "code",
   "execution_count": 7,
   "metadata": {},
   "outputs": [
    {
     "data": {
      "text/plain": [
       "'Вычислить на бумаге и с помощью Python значение первой и второй производной для функции '"
      ]
     },
     "execution_count": 7,
     "metadata": {},
     "output_type": "execute_result"
    }
   ],
   "source": [
    "\"\"\"Вычислить на бумаге и с помощью Python значение первой и второй производной для функции \"\"\""
   ]
  },
  {
   "cell_type": "code",
   "execution_count": 8,
   "metadata": {},
   "outputs": [],
   "source": [
    "import sympy as sym"
   ]
  },
  {
   "cell_type": "code",
   "execution_count": 9,
   "metadata": {},
   "outputs": [],
   "source": [
    "x = sym.Symbol('x')"
   ]
  },
  {
   "cell_type": "code",
   "execution_count": 10,
   "metadata": {},
   "outputs": [
    {
     "data": {
      "text/latex": [
       "$\\displaystyle 3 x \\left(x^{2} + x\\right)^{3}$"
      ],
      "text/plain": [
       "3*x*(x**2 + x)**3"
      ]
     },
     "execution_count": 10,
     "metadata": {},
     "output_type": "execute_result"
    }
   ],
   "source": [
    "3*x*(x**2 + x)**3"
   ]
  },
  {
   "cell_type": "code",
   "execution_count": 11,
   "metadata": {},
   "outputs": [
    {
     "data": {
      "text/latex": [
       "$\\displaystyle 3 x \\left(6 x + 3\\right) \\left(x^{2} + x\\right)^{2} + 3 \\left(x^{2} + x\\right)^{3}$"
      ],
      "text/plain": [
       "3*x*(6*x + 3)*(x**2 + x)**2 + 3*(x**2 + x)**3"
      ]
     },
     "execution_count": 11,
     "metadata": {},
     "output_type": "execute_result"
    }
   ],
   "source": [
    "res=sym.diff(3*x*(x**2+x)**(3),x)\n",
    "res"
   ]
  },
  {
   "cell_type": "code",
   "execution_count": 12,
   "metadata": {},
   "outputs": [
    {
     "data": {
      "text/latex": [
       "$\\displaystyle 132$"
      ],
      "text/plain": [
       "132"
      ]
     },
     "execution_count": 12,
     "metadata": {},
     "output_type": "execute_result"
    }
   ],
   "source": [
    "res.subs(x,1)"
   ]
  }
 ],
 "metadata": {
  "kernelspec": {
   "display_name": "Python 3",
   "language": "python",
   "name": "python3"
  },
  "language_info": {
   "codemirror_mode": {
    "name": "ipython",
    "version": 3
   },
   "file_extension": ".py",
   "mimetype": "text/x-python",
   "name": "python",
   "nbconvert_exporter": "python",
   "pygments_lexer": "ipython3",
   "version": "3.8.3"
  }
 },
 "nbformat": 4,
 "nbformat_minor": 4
}
