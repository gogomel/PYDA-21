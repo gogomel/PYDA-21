{
 "cells": [
  {
   "cell_type": "code",
   "execution_count": 6,
   "metadata": {},
   "outputs": [
    {
     "name": "stdout",
     "output_type": "stream",
     "text": [
      "Насколько проще было бы писать программы, если бы не заказчики\n",
      "Насколько проще было бы писать программы, если бы не заказчики\n",
      "Фразы равной длины\n"
     ]
    }
   ],
   "source": [
    "\"\"\"Задание 1\n",
    "Даны 2 переменных, в которых хранятся строки произвольной длины: phrase_1 и phrase_2.\n",
    "Напишите код, который проверяет какая из этих строк длиннее.\"\"\"\n",
    "\n",
    "phrase_1 = str(input())\n",
    "phrase_2 = str(input())\n",
    "if len(phrase_1) > len(phrase_2):\n",
    "    print(\"Фраза 1 длиннее фразы 2\")\n",
    "elif len(phrase_1) < len(phrase_2):\n",
    "    print(\"Фраза 2 длиннее фразы 1\")\n",
    "else:\n",
    "    print(\"Фразы равной длины\")"
   ]
  },
  {
   "cell_type": "code",
   "execution_count": 19,
   "metadata": {},
   "outputs": [
    {
     "name": "stdout",
     "output_type": "stream",
     "text": [
      "Введите год 1996\n",
      "Год високосный\n"
     ]
    }
   ],
   "source": [
    "\"\"\"Дана переменная, в которой хранится четырехзначное число (год). \n",
    "Необходимо написать программу, которая выведет, является ли данный год високосным или обычным.\"\"\"\n",
    "\n",
    "year = int(input('Введите год '))\n",
    "if year % 4 == 0:\n",
    "    if year % 100 == 0 and year % 400 == 0:\n",
    "        print (\"Год високосный\")\n",
    "    elif year % 100 == 0 and year % 400 != 0:\n",
    "        print (\"Год не високосный\")\n",
    "    else:\n",
    "        print(\"Год високосный\")\n",
    "else:\n",
    "    print(\"Год не високосный\")\n"
   ]
  },
  {
   "cell_type": "code",
   "execution_count": 23,
   "metadata": {},
   "outputs": [
    {
     "name": "stdout",
     "output_type": "stream",
     "text": [
      "Введите день 19\n",
      "Введите месяц май\n",
      "Телец\n"
     ]
    }
   ],
   "source": [
    "\"\"\"Необходимо написать программу, которая будет запрашивать у \n",
    "пользователя месяц и дату рождения и выводить соответствующий знак зодиака.\n",
    "\"\"\"\n",
    "\n",
    "day = int(input('Введите день '))\n",
    "month = input('Введите месяц ')\n",
    "month = month.lower()\n",
    "if month == 'март' and day >=21 or month == 'апрель' and day <= 20:\n",
    "    print('Овен')\n",
    "elif month == 'апрель' and day >= 21 or month == 'май' and day <= 21:\n",
    "    print('Телец')\n",
    "elif month == 'май' and day >= 22 or month == 'июнь' and day <= 21:\n",
    "    print('Близнецы')\n",
    "elif month == 'июнь' and day >= 22 or month == 'июль' and day <= 22:\n",
    "    print('Рак')\n",
    "elif month == 'июль' and day >= 23 or month == 'август' and day <= 21:\n",
    "    print('Лев')\n",
    "elif month == 'август' and day >= 22 or month == 'сентябрь' and day <= 23:\n",
    "    print('Дева')\n",
    "elif month == 'сентябрь' and day >= 24 or month == 'октябрь' and day <= 23:\n",
    "    print('Весы')\n",
    "elif month == 'октябрь' and day >= 24 or month == 'ноябрь' and day <= 22:\n",
    "    print('Скорпион')\n",
    "elif month == 'ноябрь' and day >= 23 or month == 'декабрь' and day <= 22:\n",
    "    print('Стрелец')\n",
    "elif month == 'декабрь' and day >= 23 or month == 'январь' and day <= 20:\n",
    "    print('Козерог')\n",
    "elif month == 'январь' and day >= 21 or month == 'февраль' and day <= 19:\n",
    "    print('Водолей')\n",
    "elif month == 'февраль' and day >= 20 or month == 'март' and day <= 20:\n",
    "    print('Рыбы')\n"
   ]
  },
  {
   "cell_type": "code",
   "execution_count": 46,
   "metadata": {},
   "outputs": [
    {
     "name": "stdout",
     "output_type": "stream",
     "text": [
      "Коробка для лыж\n"
     ]
    }
   ],
   "source": [
    "\"\"\"Вам нужно написать программу для подбора упаковок по размерам товара. \n",
    "Размеры (ширина, длина, высота) хранятся в переменных (в сантиметрах):\n",
    "\n",
    "Используйте следующие правила:\n",
    "\n",
    "если каждое из трех измерений менее 15 сантиметров, то выведите на экран \"Коробка №1\";\n",
    "если хотя бы одно из измерений больше 15 сантиметров, но менее 50 сантиметров, то выводите \"Коробка №2\";\n",
    "если длина товара больше 2 метров, то выводите \"Упаковка для лыж\";\n",
    "во всех остальных случаях выводите \"Стандартная коробка №3\".\"\"\"\n",
    "\n",
    "width = 1\n",
    "length = 222\n",
    "height = 1000\n",
    "if length > 200:\n",
    "    print (\"Коробка для лыж\")\n",
    "elif width < 15 and length < 15 and height < 15:\n",
    "    print(\"Коробка №1\")\n",
    "elif 15 < width < 50 or 15 < length > 50 or 15 < height > 50:\n",
    "    print(\"Коробка №2\")\n",
    "elif height > 200:\n",
    "    print (\"Коробка для лыж\")\n",
    "else:\n",
    "    print(\"Коробка №3\")\n",
    "\n"
   ]
  },
  {
   "cell_type": "code",
   "execution_count": 44,
   "metadata": {},
   "outputs": [
    {
     "name": "stdout",
     "output_type": "stream",
     "text": [
      "Коробка для лыж\n"
     ]
    }
   ],
   "source": []
  }
 ],
 "metadata": {
  "kernelspec": {
   "display_name": "Python 3",
   "language": "python",
   "name": "python3"
  },
  "language_info": {
   "codemirror_mode": {
    "name": "ipython",
    "version": 3
   },
   "file_extension": ".py",
   "mimetype": "text/x-python",
   "name": "python",
   "nbconvert_exporter": "python",
   "pygments_lexer": "ipython3",
   "version": "3.8.3"
  }
 },
 "nbformat": 4,
 "nbformat_minor": 4
}
