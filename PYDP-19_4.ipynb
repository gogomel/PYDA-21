{
 "cells": [
  {
   "cell_type": "code",
   "execution_count": 41,
   "metadata": {},
   "outputs": [],
   "source": [
    "documents = [\n",
    " {'type': 'passport', 'number': '2207 876234', 'name': 'Василий Гупкин'},\n",
    " {'type': 'invoice', 'number': '11-2', 'name': 'Геннадий Покемонов'},\n",
    " {'type': 'insurance', 'number': '10006', 'name': 'Аристарх Павлов'}\n",
    "]\n",
    "\n",
    "directories = {\n",
    " '1': ['2207 876234', '11-2'],\n",
    " '2': ['10006'],\n",
    " '3': []\n",
    "}"
   ]
  },
  {
   "cell_type": "code",
   "execution_count": 42,
   "metadata": {},
   "outputs": [],
   "source": [
    "\"\"\"Пользователь по команде \"p\" может узнать владельца документа по его номеру\"\"\"\n",
    "\n",
    "def doc_owner(some_doc, doc_num):\n",
    "    a = 0\n",
    "    for line in some_doc:\n",
    "        for item in line.values():\n",
    "            if doc_num == item:\n",
    "                a = 1\n",
    "                return(line['name'])\n",
    "    if a == 0:\n",
    "        return(\"Документ не найден в базе\")\n",
    "    \n",
    "    \n",
    "    "
   ]
  },
  {
   "cell_type": "code",
   "execution_count": 43,
   "metadata": {},
   "outputs": [],
   "source": [
    "\"\"\"Пользователь по команде \"s\" может по номеру \n",
    "документа узнать на какой полке он хранится\"\"\"\n",
    "\n",
    "def dir_num(some_dir, doc_num):\n",
    "    a = 0\n",
    "    for num, shelf in some_dir.items():\n",
    "        if doc_num in shelf:\n",
    "            a = 1\n",
    "            return(num)\n",
    "    if a == 0:\n",
    "        return(\"Документ не найден в базе\")"
   ]
  },
  {
   "cell_type": "code",
   "execution_count": 54,
   "metadata": {},
   "outputs": [],
   "source": [
    "\"\"\"Пользователь по команде \"l\" может увидеть полную информацию по всем документам\"\"\"\n",
    "\n",
    "def full_info(some_doc, some_dir):\n",
    "    for line in some_doc:\n",
    "        line_copy = line.copy()\n",
    "        for item in line_copy.values():\n",
    "            for num, shelf in some_dir.items():\n",
    "                if item in shelf:\n",
    "                    line['полка хранения'] = num\n",
    "    \n",
    "    return(some_doc)\n",
    "                \n",
    "                \n",
    "    "
   ]
  },
  {
   "cell_type": "code",
   "execution_count": 55,
   "metadata": {},
   "outputs": [],
   "source": [
    "\"\"\"Пользователь по команде \"ads\" может добавить новую полку\"\"\"\n",
    "\n",
    "def new_shelf(some_dir, shelf_num):\n",
    "    if str(shelf_num) in some_dir.keys():\n",
    "        return(f\"Такая полка уже существует. Текущий перечень полок: {list(some_dir)}\")\n",
    "    else:\n",
    "        some_dir.setdefault(str(shelf_num), [])\n",
    "        return(f\"Полка добавлена. Текущий перечень полок: {list(some_dir)}\")\n",
    "        \n",
    "    \n",
    "    "
   ]
  },
  {
   "cell_type": "code",
   "execution_count": 56,
   "metadata": {},
   "outputs": [],
   "source": [
    "\"\"\"Пользователь по команде \"ds\" может удалить \n",
    "существующую полку из данных (только если она пустая)\"\"\"\n",
    "\n",
    "def del_shelf(some_dir, shelf_num):\n",
    "    some_dir_copy = some_dir.copy()\n",
    "    for num, shelf in some_dir_copy.items():\n",
    "        if str(shelf_num) == num and shelf == []:\n",
    "            del(some_dir[str(shelf_num)])\n",
    "            return(f\"Полка удалена. Текущий перечень полок: {list(some_dir)}\")\n",
    "    for num, shelf in some_dir_copy.items():\n",
    "        if str(shelf_num) == num and shelf != []:\n",
    "            return(f\"На полке есть документы, удалите их перед удалением полки. Текущий перечень полок: {list(some_dir)}\")\n",
    "    if str(shelf_num) not in list(some_dir.keys()):\n",
    "            return(f\"Такой полки не существует. Текущий перечень полок: {list(some_dir)}\")\n",
    "    "
   ]
  },
  {
   "cell_type": "code",
   "execution_count": 65,
   "metadata": {},
   "outputs": [],
   "source": [
    "def main(homework_functions):\n",
    "    while True:\n",
    "        user_input = input('Введите команду: ')\n",
    "        if user_input == 'p':\n",
    "            param = input('Введите номер документа: ')\n",
    "            print(doc_owner(documents, param))\n",
    "        elif user_input == 's':\n",
    "            param = input('Введите номер документа: ')\n",
    "            print(dir_num(directories, param))\n",
    "        elif user_input == 'l':\n",
    "            print(full_info(documents, directories))\n",
    "        elif user_input == 'ads':\n",
    "            param = input('Введите номер полки: ')\n",
    "            print(new_shelf(directories, param))\n",
    "        elif user_input == 'ds':\n",
    "            param = input('Введите номер полки: ')\n",
    "            print(del_shelf(directories, param))\n",
    "        elif user_input == 'q':\n",
    "            break"
   ]
  },
  {
   "cell_type": "code",
   "execution_count": 66,
   "metadata": {},
   "outputs": [
    {
     "name": "stdout",
     "output_type": "stream",
     "text": [
      "Введите команду: s\n",
      "Введите номер документа: 10006\n",
      "2\n",
      "Введите команду: 12345\n",
      "Введите команду: 11-2\n",
      "Введите команду: s\n",
      "Введите номер документа: 12345\n",
      "Документ не найден в базе\n",
      "Введите команду: s\n",
      "Введите номер документа: 11-2\n",
      "1\n",
      "Введите команду: l\n",
      "[{'type': 'passport', 'number': '2207 876234', 'name': 'Василий Гупкин', 'полка хранения': '1'}, {'type': 'invoice', 'number': '11-2', 'name': 'Геннадий Покемонов', 'полка хранения': '1'}, {'type': 'insurance', 'number': '10006', 'name': 'Аристарх Павлов', 'полка хранения': '2'}]\n",
      "Введите команду: ads\n",
      "Введите номер полки: 4\n",
      "Полка добавлена. Текущий перечень полок: ['1', '2', '3', '4']\n",
      "Введите команду: ads\n",
      "Введите номер полки: 4\n",
      "Такая полка уже существует. Текущий перечень полок: ['1', '2', '3', '4']\n",
      "Введите команду: ads 1\n",
      "Введите команду: ads\n",
      "Введите номер полки: 1\n",
      "Такая полка уже существует. Текущий перечень полок: ['1', '2', '3', '4']\n",
      "Введите команду: ds\n",
      "Введите номер полки: 4\n",
      "Полка удалена. Текущий перечень полок: ['1', '2', '3']\n",
      "Введите команду: ds\n",
      "Введите номер полки: 1\n",
      "На полке есть документы, удалите их перед удалением полки. Текущий перечень полок: ['1', '2', '3']\n",
      "Введите команду: ds\n",
      "Введите номер полки: 66\n",
      "Такой полки не существует. Текущий перечень полок: ['1', '2', '3']\n",
      "Введите команду: q\n"
     ]
    }
   ],
   "source": [
    "main(documents)"
   ]
  },
  {
   "cell_type": "code",
   "execution_count": null,
   "metadata": {},
   "outputs": [],
   "source": []
  },
  {
   "cell_type": "code",
   "execution_count": null,
   "metadata": {},
   "outputs": [],
   "source": []
  }
 ],
 "metadata": {
  "kernelspec": {
   "display_name": "Python 3",
   "language": "python",
   "name": "python3"
  },
  "language_info": {
   "codemirror_mode": {
    "name": "ipython",
    "version": 3
   },
   "file_extension": ".py",
   "mimetype": "text/x-python",
   "name": "python",
   "nbconvert_exporter": "python",
   "pygments_lexer": "ipython3",
   "version": "3.8.3"
  }
 },
 "nbformat": 4,
 "nbformat_minor": 4
}
